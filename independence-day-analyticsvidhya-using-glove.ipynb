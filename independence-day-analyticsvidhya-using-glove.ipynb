{
 "cells": [
  {
   "cell_type": "markdown",
   "execution_count": null,
   "metadata": {
    "papermill": {
     "duration": 0.007889,
     "end_time": "2020-08-22T15:07:20.074943",
     "exception": false,
     "start_time": "2020-08-22T15:07:20.067054",
     "status": "completed"
    },
    "tags": []
   },
   "source": [
    "**We have the task of predicting which subject a set of abstract and Title belong to. It is a multi-label classification problem - so each abstract can belong to multiple subjects**\n",
    "\n",
    "**We explore 2 approaches:**\n",
    "1. **Shallow Learning using GloVe embeddings**\n",
    "2. **Deep Learning using GloVe embeddings**"
   ]
  },
  {
   "cell_type": "code",
   "execution_count": 1,
   "metadata": {
    "_cell_guid": "b1076dfc-b9ad-4769-8c92-a6c4dae69d19",
    "_uuid": "8f2839f25d086af736a60e9eeb907d3b93b6e0e5",
    "execution": {
     "iopub.execute_input": "2020-08-22T15:07:20.098786Z",
     "iopub.status.busy": "2020-08-22T15:07:20.098185Z",
     "iopub.status.idle": "2020-08-22T15:07:29.261243Z",
     "shell.execute_reply": "2020-08-22T15:07:29.260444Z"
    },
    "papermill": {
     "duration": 9.179535,
     "end_time": "2020-08-22T15:07:29.261366",
     "exception": false,
     "start_time": "2020-08-22T15:07:20.081831",
     "status": "completed"
    },
    "tags": []
   },
   "outputs": [
    {
     "name": "stdout",
     "output_type": "stream",
     "text": [
      "/kaggle/input/glove-global-vectors-for-word-representation/glove.6B.50d.txt\n",
      "/kaggle/input/glove-global-vectors-for-word-representation/glove.6B.100d.txt\n",
      "/kaggle/input/glove-global-vectors-for-word-representation/glove.6B.200d.txt\n",
      "/kaggle/input/janatahack-independence-day-2020-ml-hackathon/test.csv\n",
      "/kaggle/input/janatahack-independence-day-2020-ml-hackathon/train.csv\n",
      "/kaggle/input/janatahack-independence-day-2020-ml-hackathon/sample_submission_UVKGLZE.csv\n"
     ]
    }
   ],
   "source": [
    "# This Python 3 environment comes with many helpful analytics libraries installed\n",
    "# It is defined by the kaggle/python Docker image: https://github.com/kaggle/docker-python\n",
    "# For example, here's several helpful packages to load\n",
    "\n",
    "import numpy as np # linear algebra\n",
    "import pandas as pd # data processing, CSV file I/O (e.g. pd.read_csv)\n",
    "\n",
    "# Input data files are available in the read-only \"../input/\" directory\n",
    "# For example, running this (by clicking run or pressing Shift+Enter) will list all files under the input directory\n",
    "\n",
    "import os\n",
    "for dirname, _, filenames in os.walk('/kaggle/input'):\n",
    "    for filename in filenames:\n",
    "        print(os.path.join(dirname, filename))\n",
    "import pandas as pd\n",
    "import numpy as np\n",
    "import matplotlib.pyplot as plt\n",
    "import seaborn as sns\n",
    "import tensorflow as tf\n",
    "from sklearn import preprocessing, linear_model, ensemble, metrics, model_selection, svm, pipeline, naive_bayes\n",
    "from sklearn.feature_extraction.text import CountVectorizer, TfidfTransformer\n",
    "import nltk\n",
    "import spacy\n",
    "import textblob\n",
    "#from nltk import word_tokenize          \n",
    "from nltk.stem import WordNetLemmatizer\n",
    "from sklearn.multioutput import MultiOutputClassifier\n",
    "from nltk.tokenize import word_tokenize\n",
    "from nltk.stem import WordNetLemmatizer \n",
    "from nltk.stem.snowball import SnowballStemmer\n",
    "from sklearn import decomposition\n",
    "from nltk.corpus import stopwords \n",
    "sw = stopwords.words(\"english\")\n",
    "# You can write up to 5GB to the current directory (/kaggle/working/) that gets preserved as output when you create a version using \"Save & Run All\" \n",
    "# You can also write temporary files to /kaggle/temp/, but they won't be saved outside of the current session"
   ]
  },
  {
   "cell_type": "code",
   "execution_count": 2,
   "metadata": {
    "execution": {
     "iopub.execute_input": "2020-08-22T15:07:29.288390Z",
     "iopub.status.busy": "2020-08-22T15:07:29.287790Z",
     "iopub.status.idle": "2020-08-22T15:07:29.610480Z",
     "shell.execute_reply": "2020-08-22T15:07:29.609334Z"
    },
    "papermill": {
     "duration": 0.342154,
     "end_time": "2020-08-22T15:07:29.610606",
     "exception": false,
     "start_time": "2020-08-22T15:07:29.268452",
     "status": "completed"
    },
    "tags": []
   },
   "outputs": [],
   "source": [
    "# Read Data\n",
    "train = pd.read_csv('/kaggle/input/janatahack-independence-day-2020-ml-hackathon/train.csv')\n",
    "test = pd.read_csv('/kaggle/input/janatahack-independence-day-2020-ml-hackathon/test.csv')\n"
   ]
  },
  {
   "cell_type": "code",
   "execution_count": 3,
   "metadata": {
    "execution": {
     "iopub.execute_input": "2020-08-22T15:07:29.630256Z",
     "iopub.status.busy": "2020-08-22T15:07:29.628543Z",
     "iopub.status.idle": "2020-08-22T15:07:29.631040Z",
     "shell.execute_reply": "2020-08-22T15:07:29.631516Z"
    },
    "papermill": {
     "duration": 0.013764,
     "end_time": "2020-08-22T15:07:29.631633",
     "exception": false,
     "start_time": "2020-08-22T15:07:29.617869",
     "status": "completed"
    },
    "tags": []
   },
   "outputs": [],
   "source": [
    "# Dimensionality of embedding\n",
    "n = 200"
   ]
  },
  {
   "cell_type": "code",
   "execution_count": 4,
   "metadata": {
    "_cell_guid": "79c7e3d0-c299-4dcb-8224-4455121ee9b0",
    "_uuid": "d629ff2d2480ee46fbb7e2d37f6b5fab8052498a",
    "execution": {
     "iopub.execute_input": "2020-08-22T15:07:29.653460Z",
     "iopub.status.busy": "2020-08-22T15:07:29.652690Z",
     "iopub.status.idle": "2020-08-22T15:09:09.024388Z",
     "shell.execute_reply": "2020-08-22T15:09:09.025114Z"
    },
    "papermill": {
     "duration": 99.385599,
     "end_time": "2020-08-22T15:09:09.025352",
     "exception": false,
     "start_time": "2020-08-22T15:07:29.639753",
     "status": "completed"
    },
    "tags": []
   },
   "outputs": [
    {
     "name": "stdout",
     "output_type": "stream",
     "text": [
      "Read Raw File\n",
      "Read as List of Lists\n",
      "Embeddings converted to DataFrame\n"
     ]
    }
   ],
   "source": [
    "file = open('/kaggle/input/glove-global-vectors-for-word-representation/glove.6B.200d.txt', 'r')\n",
    "raw = file.read()\n",
    "print('Read Raw File')\n",
    "\n",
    "# Get Embeddings in List of Lists format\n",
    "emb_list = [val.split(' ') for val in raw.split('\\n')]\n",
    "print('Read as List of Lists')\n",
    "\n",
    "# Convert Embeddings to dataframe format\n",
    "emb = pd.DataFrame(emb_list).T\n",
    "emb.columns = emb.iloc[0, :]\n",
    "emb = emb.drop(0, axis = 0).astype(float)\n",
    "print('Embeddings converted to DataFrame')"
   ]
  },
  {
   "cell_type": "markdown",
   "execution_count": null,
   "metadata": {
    "papermill": {
     "duration": 0.006909,
     "end_time": "2020-08-22T15:09:09.039387",
     "exception": false,
     "start_time": "2020-08-22T15:09:09.032478",
     "status": "completed"
    },
    "tags": []
   },
   "source": [
    "## Shallow Learning Approach using GloVe"
   ]
  },
  {
   "cell_type": "code",
   "execution_count": 5,
   "metadata": {
    "execution": {
     "iopub.execute_input": "2020-08-22T15:09:09.065113Z",
     "iopub.status.busy": "2020-08-22T15:09:09.064446Z",
     "iopub.status.idle": "2020-08-22T15:09:09.080168Z",
     "shell.execute_reply": "2020-08-22T15:09:09.080599Z"
    },
    "papermill": {
     "duration": 0.034428,
     "end_time": "2020-08-22T15:09:09.080714",
     "exception": false,
     "start_time": "2020-08-22T15:09:09.046286",
     "status": "completed"
    },
    "tags": []
   },
   "outputs": [],
   "source": [
    "train_id = train['ID']\n",
    "test_id = test['ID']\n",
    "\n",
    "# Create indices to split train and test on later\n",
    "train['train_ind'] = np.arange(train.shape[0])\n",
    "test['train_ind'] = np.arange(train.shape[0], train.shape[0]+test.shape[0])\n",
    "\n",
    "# Merge Train and Test - This approach only works for competitions - not for model deployment in real projects.\n",
    "data = pd.concat([train, test], axis = 0)"
   ]
  },
  {
   "cell_type": "code",
   "execution_count": 6,
   "metadata": {
    "execution": {
     "iopub.execute_input": "2020-08-22T15:09:09.099450Z",
     "iopub.status.busy": "2020-08-22T15:09:09.098741Z",
     "iopub.status.idle": "2020-08-22T15:09:09.148754Z",
     "shell.execute_reply": "2020-08-22T15:09:09.148267Z"
    },
    "papermill": {
     "duration": 0.060969,
     "end_time": "2020-08-22T15:09:09.148876",
     "exception": false,
     "start_time": "2020-08-22T15:09:09.087907",
     "status": "completed"
    },
    "tags": []
   },
   "outputs": [],
   "source": [
    "# Optional Step\n",
    "data['ABSTRACT'] = data['TITLE'] + ' ' + data['ABSTRACT']"
   ]
  },
  {
   "cell_type": "code",
   "execution_count": 7,
   "metadata": {
    "execution": {
     "iopub.execute_input": "2020-08-22T15:09:09.169589Z",
     "iopub.status.busy": "2020-08-22T15:09:09.168768Z",
     "iopub.status.idle": "2020-08-22T15:09:09.171889Z",
     "shell.execute_reply": "2020-08-22T15:09:09.171413Z"
    },
    "papermill": {
     "duration": 0.0159,
     "end_time": "2020-08-22T15:09:09.171991",
     "exception": false,
     "start_time": "2020-08-22T15:09:09.156091",
     "status": "completed"
    },
    "tags": []
   },
   "outputs": [],
   "source": [
    "def get_embeddings(word, n = 200):\n",
    "    if word.lower() in emb:\n",
    "        return emb[word.lower()].values.tolist()\n",
    "    else:\n",
    "        return np.zeros(n).tolist()\n"
   ]
  },
  {
   "cell_type": "code",
   "execution_count": 8,
   "metadata": {
    "execution": {
     "iopub.execute_input": "2020-08-22T15:09:09.194936Z",
     "iopub.status.busy": "2020-08-22T15:09:09.194344Z",
     "iopub.status.idle": "2020-08-22T15:12:43.645521Z",
     "shell.execute_reply": "2020-08-22T15:12:43.644756Z"
    },
    "papermill": {
     "duration": 214.466493,
     "end_time": "2020-08-22T15:12:43.645661",
     "exception": false,
     "start_time": "2020-08-22T15:09:09.179168",
     "status": "completed"
    },
    "tags": []
   },
   "outputs": [
    {
     "data": {
      "application/vnd.jupyter.widget-view+json": {
       "model_id": "ecdb702f52414178b51c3ffa348a037d",
       "version_major": 2,
       "version_minor": 0
      },
      "text/plain": [
       "HBox(children=(FloatProgress(value=1.0, bar_style='info', max=1.0), HTML(value='')))"
      ]
     },
     "metadata": {},
     "output_type": "display_data"
    },
    {
     "name": "stdout",
     "output_type": "stream",
     "text": [
      "\n"
     ]
    }
   ],
   "source": [
    "from tqdm import notebook\n",
    "count = 0\n",
    "final_emb = []\n",
    "for index, row in notebook.tqdm(data.iterrows()):\n",
    "    \n",
    "    emb_data = []\n",
    "    text = row['ABSTRACT']\n",
    "    \n",
    "    # Tokenize\n",
    "    words = word_tokenize(text)\n",
    "    \n",
    "    # Remove stopwords and ensure alphanumeric words\n",
    "    words = [w for w in words if w not in sw]\n",
    "    words = [w for w in words if w.isalpha()]\n",
    "    \n",
    "    # Sum up embeddings for each word\n",
    "    for word in words:\n",
    "        emb_data.append(get_embeddings(word, n))\n",
    "        \n",
    "    sentence_embedding_all = np.array(emb_data)\n",
    "\n",
    "    sum_vec = sentence_embedding_all.sum(axis = 0)/np.sqrt((sentence_embedding_all.sum(axis = 0) ** 2).sum())\n",
    "    final_emb.append(sum_vec)\n",
    "final_emb = np.array(final_emb)\n",
    "\n"
   ]
  },
  {
   "cell_type": "code",
   "execution_count": 9,
   "metadata": {
    "execution": {
     "iopub.execute_input": "2020-08-22T15:12:43.675097Z",
     "iopub.status.busy": "2020-08-22T15:12:43.674384Z",
     "iopub.status.idle": "2020-08-22T15:12:43.682061Z",
     "shell.execute_reply": "2020-08-22T15:12:43.683312Z"
    },
    "papermill": {
     "duration": 0.027568,
     "end_time": "2020-08-22T15:12:43.683461",
     "exception": false,
     "start_time": "2020-08-22T15:12:43.655893",
     "status": "completed"
    },
    "tags": []
   },
   "outputs": [],
   "source": [
    "# Split the data back to train and test\n",
    "X_train = final_emb[:train.shape[0], :]\n",
    "y_train = data[['Computer Science', 'Physics', 'Mathematics',\n",
    "       'Statistics', 'Quantitative Biology', 'Quantitative Finance']].iloc[:train.shape[0]]\n",
    "\n",
    "X_test = final_emb[train.shape[0]:, :]\n",
    "y_test = data[['Computer Science', 'Physics', 'Mathematics',\n",
    "       'Statistics', 'Quantitative Biology', 'Quantitative Finance']].iloc[train.shape[0]:]"
   ]
  },
  {
   "cell_type": "code",
   "execution_count": 10,
   "metadata": {
    "execution": {
     "iopub.execute_input": "2020-08-22T15:12:43.712653Z",
     "iopub.status.busy": "2020-08-22T15:12:43.711948Z",
     "iopub.status.idle": "2020-08-22T15:16:16.494709Z",
     "shell.execute_reply": "2020-08-22T15:16:16.494152Z"
    },
    "papermill": {
     "duration": 212.801078,
     "end_time": "2020-08-22T15:16:16.494833",
     "exception": false,
     "start_time": "2020-08-22T15:12:43.693755",
     "status": "completed"
    },
    "tags": []
   },
   "outputs": [],
   "source": [
    "# Train model - Logistic Regression is a good option for Text classification problems\n",
    "#model = linear_model.LogisticRegressionCV(penalty = 'l2', Cs = 10, max_iter = 5000).fit(X_train, y_train)\n",
    "#model = linear_model.RidgeClassifierCV().fit(X_train, y_train)\n",
    "from sklearn import naive_bayes\n",
    "\n",
    "#model = MultiOutputClassifier(estimator = naive_bayes.MultinomialNB(alpha=1.0, fit_prior=True, class_prior=None)).fit(X_train, y_train)\n",
    "model = MultiOutputClassifier(estimator = linear_model.LogisticRegressionCV(Cs = 10, cv = 5, n_jobs = -1, max_iter = 5000)).fit(X_train, y_train)"
   ]
  },
  {
   "cell_type": "code",
   "execution_count": 11,
   "metadata": {
    "execution": {
     "iopub.execute_input": "2020-08-22T15:16:16.521241Z",
     "iopub.status.busy": "2020-08-22T15:16:16.519573Z",
     "iopub.status.idle": "2020-08-22T15:16:16.522155Z",
     "shell.execute_reply": "2020-08-22T15:16:16.522613Z"
    },
    "papermill": {
     "duration": 0.01969,
     "end_time": "2020-08-22T15:16:16.522724",
     "exception": false,
     "start_time": "2020-08-22T15:16:16.503034",
     "status": "completed"
    },
    "tags": []
   },
   "outputs": [],
   "source": [
    "def get_preds_multioutput(predictions):\n",
    "    return np.array([[val[1] for val in inner] for inner in predictions]).T\n",
    "\n",
    "def convert_probs_to_labels(predictions, threshold = .5, labels = None):\n",
    "    final = []\n",
    "    for prediction in predictions:\n",
    "        temp = (prediction > threshold)*1\n",
    "        final.append(temp)\n",
    "        \n",
    "    return final\n",
    "\n",
    "def predict_1(predictions, threshold=.5):\n",
    "    preds = get_preds_multioutput(predictions)\n",
    "    preds = convert_probs_to_labels(preds, threshold = threshold, labels = None)\n",
    "    return np.array(preds)\n",
    "\n",
    "#predict_1(model.predict_proba(X_test))"
   ]
  },
  {
   "cell_type": "code",
   "execution_count": 12,
   "metadata": {
    "execution": {
     "iopub.execute_input": "2020-08-22T15:16:16.547301Z",
     "iopub.status.busy": "2020-08-22T15:16:16.544286Z",
     "iopub.status.idle": "2020-08-22T15:16:16.731819Z",
     "shell.execute_reply": "2020-08-22T15:16:16.731270Z"
    },
    "papermill": {
     "duration": 0.2012,
     "end_time": "2020-08-22T15:16:16.731955",
     "exception": false,
     "start_time": "2020-08-22T15:16:16.530755",
     "status": "completed"
    },
    "tags": []
   },
   "outputs": [],
   "source": [
    "sub = pd.DataFrame()\n",
    "sub['ID'] = test_id\n",
    "\n",
    "#preds = predict_1(model.predict_proba(X_test))\n",
    "sub[['Computer Science', 'Physics', 'Mathematics',\n",
    "       'Statistics', 'Quantitative Biology', 'Quantitative Finance']] = model.predict(X_test).astype(int)\n",
    "sub.to_csv('sub.csv', index = None)"
   ]
  },
  {
   "cell_type": "markdown",
   "execution_count": null,
   "metadata": {
    "papermill": {
     "duration": 0.007502,
     "end_time": "2020-08-22T15:16:16.747534",
     "exception": false,
     "start_time": "2020-08-22T15:16:16.740032",
     "status": "completed"
    },
    "tags": []
   },
   "source": [
    "## Deep Learning with GloVe Word Embeddings\n",
    "Code for creating Embedding matrix for Deep learning purposes taken from:\n",
    "https://www.kaggle.com/shahules/basic-eda-cleaning-and-glove\n"
   ]
  },
  {
   "cell_type": "code",
   "execution_count": 13,
   "metadata": {
    "execution": {
     "iopub.execute_input": "2020-08-22T15:16:16.769312Z",
     "iopub.status.busy": "2020-08-22T15:16:16.768693Z",
     "iopub.status.idle": "2020-08-22T15:16:16.837278Z",
     "shell.execute_reply": "2020-08-22T15:16:16.836012Z"
    },
    "papermill": {
     "duration": 0.082026,
     "end_time": "2020-08-22T15:16:16.837381",
     "exception": false,
     "start_time": "2020-08-22T15:16:16.755355",
     "status": "completed"
    },
    "tags": []
   },
   "outputs": [],
   "source": [
    "from keras.preprocessing.text import Tokenizer\n",
    "from keras.preprocessing.sequence import pad_sequences\n",
    "from keras.models import Sequential\n",
    "from keras.layers import Embedding,LSTM,Dense,SpatialDropout1D\n",
    "from keras.initializers import Constant\n",
    "from sklearn.model_selection import train_test_split\n",
    "from keras.optimizers import Adam\n",
    "from  tqdm import tqdm"
   ]
  },
  {
   "cell_type": "code",
   "execution_count": 14,
   "metadata": {
    "execution": {
     "iopub.execute_input": "2020-08-22T15:16:16.859689Z",
     "iopub.status.busy": "2020-08-22T15:16:16.859084Z",
     "iopub.status.idle": "2020-08-22T15:17:41.155658Z",
     "shell.execute_reply": "2020-08-22T15:17:41.156412Z"
    },
    "papermill": {
     "duration": 84.311352,
     "end_time": "2020-08-22T15:17:41.156602",
     "exception": false,
     "start_time": "2020-08-22T15:16:16.845250",
     "status": "completed"
    },
    "tags": []
   },
   "outputs": [
    {
     "name": "stderr",
     "output_type": "stream",
     "text": [
      "100%|██████████| 29961/29961 [01:24<00:00, 355.47it/s]\n"
     ]
    }
   ],
   "source": [
    "def create_corpus(df):\n",
    "    corpus=[]\n",
    "    for tweet in tqdm(df['ABSTRACT']):\n",
    "        words=[word.lower() for word in word_tokenize(tweet) if((word.isalpha()==1) & (word not in sw))]\n",
    "        corpus.append(words)\n",
    "    return corpus\n",
    "corpus=create_corpus(data)\n"
   ]
  },
  {
   "cell_type": "code",
   "execution_count": 15,
   "metadata": {
    "execution": {
     "iopub.execute_input": "2020-08-22T15:17:41.264613Z",
     "iopub.status.busy": "2020-08-22T15:17:41.263995Z",
     "iopub.status.idle": "2020-08-22T15:18:00.425959Z",
     "shell.execute_reply": "2020-08-22T15:18:00.425321Z"
    },
    "papermill": {
     "duration": 19.217936,
     "end_time": "2020-08-22T15:18:00.426092",
     "exception": false,
     "start_time": "2020-08-22T15:17:41.208156",
     "status": "completed"
    },
    "tags": []
   },
   "outputs": [],
   "source": [
    "embedding_dict={}\n",
    "with open('../input/glove-global-vectors-for-word-representation/glove.6B.100d.txt','r') as f:\n",
    "    for line in f:\n",
    "        values=line.split()\n",
    "        word=values[0]\n",
    "        vectors=np.asarray(values[1:],'float32')\n",
    "        embedding_dict[word]=vectors\n",
    "f.close()\n"
   ]
  },
  {
   "cell_type": "code",
   "execution_count": 16,
   "metadata": {
    "execution": {
     "iopub.execute_input": "2020-08-22T15:18:00.549118Z",
     "iopub.status.busy": "2020-08-22T15:18:00.538828Z",
     "iopub.status.idle": "2020-08-22T15:18:05.461298Z",
     "shell.execute_reply": "2020-08-22T15:18:05.460739Z"
    },
    "papermill": {
     "duration": 4.985464,
     "end_time": "2020-08-22T15:18:05.461417",
     "exception": false,
     "start_time": "2020-08-22T15:18:00.475953",
     "status": "completed"
    },
    "tags": []
   },
   "outputs": [],
   "source": [
    "MAX_LEN=50\n",
    "tokenizer_obj=Tokenizer()\n",
    "tokenizer_obj.fit_on_texts(corpus)\n",
    "sequences=tokenizer_obj.texts_to_sequences(corpus)\n",
    "\n",
    "padded=pad_sequences(sequences,maxlen=MAX_LEN,truncating='post',padding='post')"
   ]
  },
  {
   "cell_type": "code",
   "execution_count": 17,
   "metadata": {
    "execution": {
     "iopub.execute_input": "2020-08-22T15:18:05.571537Z",
     "iopub.status.busy": "2020-08-22T15:18:05.569118Z",
     "iopub.status.idle": "2020-08-22T15:18:05.575712Z",
     "shell.execute_reply": "2020-08-22T15:18:05.574939Z"
    },
    "papermill": {
     "duration": 0.062019,
     "end_time": "2020-08-22T15:18:05.575844",
     "exception": false,
     "start_time": "2020-08-22T15:18:05.513825",
     "status": "completed"
    },
    "tags": []
   },
   "outputs": [
    {
     "name": "stdout",
     "output_type": "stream",
     "text": [
      "Number of unique words: 56319\n"
     ]
    }
   ],
   "source": [
    "word_index=tokenizer_obj.word_index\n",
    "print('Number of unique words:',len(word_index))"
   ]
  },
  {
   "cell_type": "code",
   "execution_count": 18,
   "metadata": {
    "execution": {
     "iopub.execute_input": "2020-08-22T15:18:05.685750Z",
     "iopub.status.busy": "2020-08-22T15:18:05.684757Z",
     "iopub.status.idle": "2020-08-22T15:18:05.851634Z",
     "shell.execute_reply": "2020-08-22T15:18:05.852118Z"
    },
    "papermill": {
     "duration": 0.225027,
     "end_time": "2020-08-22T15:18:05.852263",
     "exception": false,
     "start_time": "2020-08-22T15:18:05.627236",
     "status": "completed"
    },
    "tags": []
   },
   "outputs": [
    {
     "name": "stderr",
     "output_type": "stream",
     "text": [
      "100%|██████████| 56319/56319 [00:00<00:00, 406188.65it/s]\n"
     ]
    }
   ],
   "source": [
    "num_words=len(word_index)+1\n",
    "embedding_matrix=np.zeros((num_words,100))\n",
    "\n",
    "for word,i in tqdm(word_index.items()):\n",
    "    if i > num_words:\n",
    "        continue\n",
    "    \n",
    "    emb_vec=embedding_dict.get(word)\n",
    "    if emb_vec is not None:\n",
    "        embedding_matrix[i]=emb_vec\n",
    "            "
   ]
  },
  {
   "cell_type": "code",
   "execution_count": 19,
   "metadata": {
    "execution": {
     "iopub.execute_input": "2020-08-22T15:18:05.964046Z",
     "iopub.status.busy": "2020-08-22T15:18:05.962729Z",
     "iopub.status.idle": "2020-08-22T15:18:05.966417Z",
     "shell.execute_reply": "2020-08-22T15:18:05.967037Z"
    },
    "papermill": {
     "duration": 0.062767,
     "end_time": "2020-08-22T15:18:05.967177",
     "exception": false,
     "start_time": "2020-08-22T15:18:05.904410",
     "status": "completed"
    },
    "tags": []
   },
   "outputs": [
    {
     "data": {
      "text/plain": [
       "(56320, 100)"
      ]
     },
     "execution_count": 19,
     "metadata": {},
     "output_type": "execute_result"
    }
   ],
   "source": [
    "embedding_matrix.shape"
   ]
  },
  {
   "cell_type": "code",
   "execution_count": 20,
   "metadata": {
    "execution": {
     "iopub.execute_input": "2020-08-22T15:18:06.119560Z",
     "iopub.status.busy": "2020-08-22T15:18:06.118931Z",
     "iopub.status.idle": "2020-08-22T15:18:09.428723Z",
     "shell.execute_reply": "2020-08-22T15:18:09.427616Z"
    },
    "papermill": {
     "duration": 3.411543,
     "end_time": "2020-08-22T15:18:09.428871",
     "exception": false,
     "start_time": "2020-08-22T15:18:06.017328",
     "status": "completed"
    },
    "tags": []
   },
   "outputs": [],
   "source": [
    "model=Sequential()\n",
    "\n",
    "embedding=Embedding(num_words,100,embeddings_initializer=Constant(embedding_matrix),\n",
    "                   input_length=MAX_LEN,trainable=False)\n",
    "\n",
    "model.add(embedding)\n",
    "model.add(SpatialDropout1D(0.2))\n",
    "model.add(LSTM(256, dropout=0.2, recurrent_dropout=0.2, return_sequences = True))\n",
    "model.add(LSTM(256, dropout=0.2, recurrent_dropout=0.2, return_sequences = False))\n",
    "model.add(Dense(256, activation = 'relu'))\n",
    "\n",
    "model.add(Dense(6, activation='sigmoid'))\n",
    "\n",
    "\n",
    "\n",
    "optimzer=Adam(learning_rate=1e-5)\n",
    "\n",
    "model.compile(loss='binary_crossentropy',optimizer=optimzer,metrics=['accuracy'])"
   ]
  },
  {
   "cell_type": "code",
   "execution_count": 21,
   "metadata": {
    "execution": {
     "iopub.execute_input": "2020-08-22T15:18:09.536458Z",
     "iopub.status.busy": "2020-08-22T15:18:09.533972Z",
     "iopub.status.idle": "2020-08-22T15:18:09.546233Z",
     "shell.execute_reply": "2020-08-22T15:18:09.546733Z"
    },
    "papermill": {
     "duration": 0.067505,
     "end_time": "2020-08-22T15:18:09.546882",
     "exception": false,
     "start_time": "2020-08-22T15:18:09.479377",
     "status": "completed"
    },
    "tags": []
   },
   "outputs": [
    {
     "name": "stdout",
     "output_type": "stream",
     "text": [
      "Model: \"sequential\"\n",
      "_________________________________________________________________\n",
      "Layer (type)                 Output Shape              Param #   \n",
      "=================================================================\n",
      "embedding (Embedding)        (None, 50, 100)           5632000   \n",
      "_________________________________________________________________\n",
      "spatial_dropout1d (SpatialDr (None, 50, 100)           0         \n",
      "_________________________________________________________________\n",
      "lstm (LSTM)                  (None, 50, 256)           365568    \n",
      "_________________________________________________________________\n",
      "lstm_1 (LSTM)                (None, 256)               525312    \n",
      "_________________________________________________________________\n",
      "dense (Dense)                (None, 256)               65792     \n",
      "_________________________________________________________________\n",
      "dense_1 (Dense)              (None, 6)                 1542      \n",
      "=================================================================\n",
      "Total params: 6,590,214\n",
      "Trainable params: 958,214\n",
      "Non-trainable params: 5,632,000\n",
      "_________________________________________________________________\n"
     ]
    }
   ],
   "source": [
    "model.summary()"
   ]
  },
  {
   "cell_type": "code",
   "execution_count": 22,
   "metadata": {
    "execution": {
     "iopub.execute_input": "2020-08-22T15:18:09.659859Z",
     "iopub.status.busy": "2020-08-22T15:18:09.659188Z",
     "iopub.status.idle": "2020-08-22T15:18:09.662773Z",
     "shell.execute_reply": "2020-08-22T15:18:09.662275Z"
    },
    "papermill": {
     "duration": 0.065133,
     "end_time": "2020-08-22T15:18:09.662889",
     "exception": false,
     "start_time": "2020-08-22T15:18:09.597756",
     "status": "completed"
    },
    "tags": []
   },
   "outputs": [],
   "source": [
    "# Split the data back to train and test\n",
    "X_train = padded[:train.shape[0], :]\n",
    "y_train = data[['Computer Science', 'Physics', 'Mathematics',\n",
    "       'Statistics', 'Quantitative Biology', 'Quantitative Finance']].iloc[:train.shape[0]]\n",
    "\n",
    "X_test = padded[train.shape[0]:, :]\n",
    "y_test = data[['Computer Science', 'Physics', 'Mathematics',\n",
    "       'Statistics', 'Quantitative Biology', 'Quantitative Finance']].iloc[train.shape[0]:]"
   ]
  },
  {
   "cell_type": "code",
   "execution_count": 23,
   "metadata": {
    "execution": {
     "iopub.execute_input": "2020-08-22T15:18:09.772650Z",
     "iopub.status.busy": "2020-08-22T15:18:09.771798Z",
     "iopub.status.idle": "2020-08-22T15:18:09.784754Z",
     "shell.execute_reply": "2020-08-22T15:18:09.785931Z"
    },
    "papermill": {
     "duration": 0.070928,
     "end_time": "2020-08-22T15:18:09.786095",
     "exception": false,
     "start_time": "2020-08-22T15:18:09.715167",
     "status": "completed"
    },
    "tags": []
   },
   "outputs": [
    {
     "name": "stdout",
     "output_type": "stream",
     "text": [
      "Shape of train (17826, 50)\n",
      "Shape of Validation  (3146, 50)\n"
     ]
    }
   ],
   "source": [
    "X_train1,X_test1,y_train1,y_test1=train_test_split(X_train,y_train,test_size=0.15)\n",
    "print('Shape of train',X_train1.shape)\n",
    "print(\"Shape of Validation \",X_test1.shape)"
   ]
  },
  {
   "cell_type": "code",
   "execution_count": 24,
   "metadata": {
    "execution": {
     "iopub.execute_input": "2020-08-22T15:18:09.899996Z",
     "iopub.status.busy": "2020-08-22T15:18:09.899380Z",
     "iopub.status.idle": "2020-08-22T15:25:09.395072Z",
     "shell.execute_reply": "2020-08-22T15:25:09.395745Z"
    },
    "papermill": {
     "duration": 419.555778,
     "end_time": "2020-08-22T15:25:09.395963",
     "exception": false,
     "start_time": "2020-08-22T15:18:09.840185",
     "status": "completed"
    },
    "tags": []
   },
   "outputs": [
    {
     "name": "stdout",
     "output_type": "stream",
     "text": [
      "Epoch 1/30\n",
      "35/35 [==============================] - 14s 391ms/step - loss: 0.6854 - accuracy: 0.1499 - val_loss: 0.6655 - val_accuracy: 0.2877\n",
      "Epoch 2/30\n",
      "35/35 [==============================] - 14s 397ms/step - loss: 0.6495 - accuracy: 0.3223 - val_loss: 0.6181 - val_accuracy: 0.4240\n",
      "Epoch 3/30\n",
      "35/35 [==============================] - 14s 392ms/step - loss: 0.5952 - accuracy: 0.4088 - val_loss: 0.5450 - val_accuracy: 0.4380\n",
      "Epoch 4/30\n",
      "35/35 [==============================] - 13s 372ms/step - loss: 0.5185 - accuracy: 0.4184 - val_loss: 0.4670 - val_accuracy: 0.4180\n",
      "Epoch 5/30\n",
      "35/35 [==============================] - 13s 373ms/step - loss: 0.4575 - accuracy: 0.4086 - val_loss: 0.4374 - val_accuracy: 0.4180\n",
      "Epoch 6/30\n",
      "35/35 [==============================] - 13s 380ms/step - loss: 0.4376 - accuracy: 0.4085 - val_loss: 0.4307 - val_accuracy: 0.4180\n",
      "Epoch 7/30\n",
      "35/35 [==============================] - 14s 410ms/step - loss: 0.4313 - accuracy: 0.4123 - val_loss: 0.4263 - val_accuracy: 0.4263\n",
      "Epoch 8/30\n",
      "35/35 [==============================] - 13s 373ms/step - loss: 0.4258 - accuracy: 0.4325 - val_loss: 0.4189 - val_accuracy: 0.4520\n",
      "Epoch 9/30\n",
      "35/35 [==============================] - 13s 371ms/step - loss: 0.4173 - accuracy: 0.4924 - val_loss: 0.4044 - val_accuracy: 0.5267\n",
      "Epoch 10/30\n",
      "35/35 [==============================] - 13s 374ms/step - loss: 0.4026 - accuracy: 0.5638 - val_loss: 0.3790 - val_accuracy: 0.6236\n",
      "Epoch 11/30\n",
      "35/35 [==============================] - 14s 410ms/step - loss: 0.3816 - accuracy: 0.6046 - val_loss: 0.3550 - val_accuracy: 0.6570\n",
      "Epoch 12/30\n",
      "35/35 [==============================] - 13s 380ms/step - loss: 0.3636 - accuracy: 0.6362 - val_loss: 0.3376 - val_accuracy: 0.6939\n",
      "Epoch 13/30\n",
      "35/35 [==============================] - 13s 380ms/step - loss: 0.3460 - accuracy: 0.6669 - val_loss: 0.3173 - val_accuracy: 0.7136\n",
      "Epoch 14/30\n",
      "35/35 [==============================] - 13s 368ms/step - loss: 0.3287 - accuracy: 0.6868 - val_loss: 0.3020 - val_accuracy: 0.7206\n",
      "Epoch 15/30\n",
      "35/35 [==============================] - 14s 406ms/step - loss: 0.3173 - accuracy: 0.6920 - val_loss: 0.2923 - val_accuracy: 0.7187\n",
      "Epoch 16/30\n",
      "35/35 [==============================] - 13s 375ms/step - loss: 0.3098 - accuracy: 0.6968 - val_loss: 0.2906 - val_accuracy: 0.7187\n",
      "Epoch 17/30\n",
      "35/35 [==============================] - 13s 375ms/step - loss: 0.3058 - accuracy: 0.7004 - val_loss: 0.2887 - val_accuracy: 0.7152\n",
      "Epoch 18/30\n",
      "35/35 [==============================] - 13s 376ms/step - loss: 0.3023 - accuracy: 0.7030 - val_loss: 0.2813 - val_accuracy: 0.7285\n",
      "Epoch 19/30\n",
      "35/35 [==============================] - 14s 394ms/step - loss: 0.2997 - accuracy: 0.7025 - val_loss: 0.2828 - val_accuracy: 0.7209\n",
      "Epoch 20/30\n",
      "35/35 [==============================] - 13s 384ms/step - loss: 0.2983 - accuracy: 0.7037 - val_loss: 0.2795 - val_accuracy: 0.7190\n",
      "Epoch 21/30\n",
      "35/35 [==============================] - 13s 371ms/step - loss: 0.2945 - accuracy: 0.7082 - val_loss: 0.2772 - val_accuracy: 0.7238\n",
      "Epoch 22/30\n",
      "35/35 [==============================] - 13s 368ms/step - loss: 0.2939 - accuracy: 0.7073 - val_loss: 0.2756 - val_accuracy: 0.7231\n",
      "Epoch 23/30\n",
      "35/35 [==============================] - 13s 374ms/step - loss: 0.2913 - accuracy: 0.7111 - val_loss: 0.2734 - val_accuracy: 0.7231\n",
      "Epoch 24/30\n",
      "35/35 [==============================] - 14s 408ms/step - loss: 0.2904 - accuracy: 0.7073 - val_loss: 0.2733 - val_accuracy: 0.7231\n",
      "Epoch 25/30\n",
      "35/35 [==============================] - 13s 370ms/step - loss: 0.2885 - accuracy: 0.7079 - val_loss: 0.2687 - val_accuracy: 0.7266\n",
      "Epoch 26/30\n",
      "35/35 [==============================] - 13s 372ms/step - loss: 0.2871 - accuracy: 0.7040 - val_loss: 0.2700 - val_accuracy: 0.7088\n",
      "Epoch 27/30\n",
      "35/35 [==============================] - 13s 366ms/step - loss: 0.2857 - accuracy: 0.7035 - val_loss: 0.2683 - val_accuracy: 0.7130\n",
      "Epoch 28/30\n",
      "35/35 [==============================] - 14s 401ms/step - loss: 0.2851 - accuracy: 0.7002 - val_loss: 0.2650 - val_accuracy: 0.7012\n",
      "Epoch 29/30\n",
      "35/35 [==============================] - 13s 380ms/step - loss: 0.2833 - accuracy: 0.6966 - val_loss: 0.2617 - val_accuracy: 0.7127\n",
      "Epoch 30/30\n",
      "35/35 [==============================] - 13s 384ms/step - loss: 0.2806 - accuracy: 0.7030 - val_loss: 0.2620 - val_accuracy: 0.7025\n"
     ]
    }
   ],
   "source": [
    "history=model.fit(X_train1,y_train1,batch_size=512,epochs=30,validation_data=(X_test1,y_test1))"
   ]
  },
  {
   "cell_type": "code",
   "execution_count": 25,
   "metadata": {
    "execution": {
     "iopub.execute_input": "2020-08-22T15:25:09.627096Z",
     "iopub.status.busy": "2020-08-22T15:25:09.626457Z",
     "iopub.status.idle": "2020-08-22T15:25:09.858656Z",
     "shell.execute_reply": "2020-08-22T15:25:09.858167Z"
    },
    "papermill": {
     "duration": 0.348837,
     "end_time": "2020-08-22T15:25:09.858768",
     "exception": false,
     "start_time": "2020-08-22T15:25:09.509931",
     "status": "completed"
    },
    "tags": []
   },
   "outputs": [
    {
     "data": {
      "text/plain": [
       "<matplotlib.legend.Legend at 0x7fce3d9672d0>"
      ]
     },
     "execution_count": 25,
     "metadata": {},
     "output_type": "execute_result"
    },
    {
     "data": {
      "image/png": "[encoded data removed]",
      "text/plain": [
       "<Figure size 1008x288 with 1 Axes>"
      ]
     },
     "metadata": {
      "needs_background": "light"
     },
     "output_type": "display_data"
    }
   ],
   "source": [
    "plt.figure(figsize = (14, 4))\n",
    "plt.plot(history.history['loss'], label = 'train loss')\n",
    "plt.plot(history.history['val_loss'], label = 'val_loss')\n",
    "plt.legend()"
   ]
  },
  {
   "cell_type": "code",
   "execution_count": 26,
   "metadata": {
    "execution": {
     "iopub.execute_input": "2020-08-22T15:25:10.132382Z",
     "iopub.status.busy": "2020-08-22T15:25:10.131451Z",
     "iopub.status.idle": "2020-08-22T15:25:17.464646Z",
     "shell.execute_reply": "2020-08-22T15:25:17.463761Z"
    },
    "papermill": {
     "duration": 7.457504,
     "end_time": "2020-08-22T15:25:17.464764",
     "exception": false,
     "start_time": "2020-08-22T15:25:10.007260",
     "status": "completed"
    },
    "tags": []
   },
   "outputs": [],
   "source": [
    "sub = pd.DataFrame()\n",
    "sub['ID'] = test_id\n",
    "\n",
    "#preds = predict_1(model.predict_proba(X_test))\n",
    "sub[['Computer Science', 'Physics', 'Mathematics',\n",
    "       'Statistics', 'Quantitative Biology', 'Quantitative Finance']] = (model.predict(X_test)>.6).astype(int)\n",
    "sub.to_csv('sub.csv', index = None)"
   ]
  }
 ],
 "metadata": {
  "kernelspec": {
   "display_name": "Python 3",
   "language": "python",
   "name": "python3"
  },
  "language_info": {
   "codemirror_mode": {
    "name": "ipython",
    "version": 3
   },
   "file_extension": ".py",
   "mimetype": "text/x-python",
   "name": "python",
   "nbconvert_exporter": "python",
   "pygments_lexer": "ipython3",
   "version": "3.7.6"
  },
  "papermill": {
   "duration": 1083.462602,
   "end_time": "2020-08-22T15:25:19.237560",
   "environment_variables": {},
   "exception": null,
   "input_path": "__notebook__.ipynb",
   "output_path": "__notebook__.ipynb",
   "parameters": {},
   "start_time": "2020-08-22T15:07:15.774958",
   "version": "2.1.0"
  },
  "widgets": {
   "application/vnd.jupyter.widget-state+json": {
    "state": {
     "0a377a207e874d4aa1e9d1f4bf7e3221": {
      "model_module": "@jupyter-widgets/controls",
      "model_module_version": "1.5.0",
      "model_name": "DescriptionStyleModel",
      "state": {
       "_model_module": "@jupyter-widgets/controls",
       "_model_module_version": "1.5.0",
       "_model_name": "DescriptionStyleModel",
       "_view_count": null,
       "_view_module": "@jupyter-widgets/base",
       "_view_module_version": "1.2.0",
       "_view_name": "StyleView",
       "description_width": ""
      }
     },
     "22ca05e28fd74f0c877020d5c0aa44c8": {
      "model_module": "@jupyter-widgets/base",
      "model_module_version": "1.2.0",
      "model_name": "LayoutModel",
      "state": {
       "_model_module": "@jupyter-widgets/base",
       "_model_module_version": "1.2.0",
       "_model_name": "LayoutModel",
       "_view_count": null,
       "_view_module": "@jupyter-widgets/base",
       "_view_module_version": "1.2.0",
       "_view_name": "LayoutView",
       "align_content": null,
       "align_items": null,
       "align_self": null,
       "border": null,
       "bottom": null,
       "display": null,
       "flex": null,
       "flex_flow": null,
       "grid_area": null,
       "grid_auto_columns": null,
       "grid_auto_flow": null,
       "grid_auto_rows": null,
       "grid_column": null,
       "grid_gap": null,
       "grid_row": null,
       "grid_template_areas": null,
       "grid_template_columns": null,
       "grid_template_rows": null,
       "height": null,
       "justify_content": null,
       "justify_items": null,
       "left": null,
       "margin": null,
       "max_height": null,
       "max_width": null,
       "min_height": null,
       "min_width": null,
       "object_fit": null,
       "object_position": null,
       "order": null,
       "overflow": null,
       "overflow_x": null,
       "overflow_y": null,
       "padding": null,
       "right": null,
       "top": null,
       "visibility": null,
       "width": null
      }
     },
     "39586167a08d44ba80d854beb0c314f1": {
      "model_module": "@jupyter-widgets/controls",
      "model_module_version": "1.5.0",
      "model_name": "ProgressStyleModel",
      "state": {
       "_model_module": "@jupyter-widgets/controls",
       "_model_module_version": "1.5.0",
       "_model_name": "ProgressStyleModel",
       "_view_count": null,
       "_view_module": "@jupyter-widgets/base",
       "_view_module_version": "1.2.0",
       "_view_name": "StyleView",
       "bar_color": null,
       "description_width": "initial"
      }
     },
     "54136badddc54f7391c5ed2cab4017c0": {
      "model_module": "@jupyter-widgets/base",
      "model_module_version": "1.2.0",
      "model_name": "LayoutModel",
      "state": {
       "_model_module": "@jupyter-widgets/base",
       "_model_module_version": "1.2.0",
       "_model_name": "LayoutModel",
       "_view_count": null,
       "_view_module": "@jupyter-widgets/base",
       "_view_module_version": "1.2.0",
       "_view_name": "LayoutView",
       "align_content": null,
       "align_items": null,
       "align_self": null,
       "border": null,
       "bottom": null,
       "display": null,
       "flex": null,
       "flex_flow": null,
       "grid_area": null,
       "grid_auto_columns": null,
       "grid_auto_flow": null,
       "grid_auto_rows": null,
       "grid_column": null,
       "grid_gap": null,
       "grid_row": null,
       "grid_template_areas": null,
       "grid_template_columns": null,
       "grid_template_rows": null,
       "height": null,
       "justify_content": null,
       "justify_items": null,
       "left": null,
       "margin": null,
       "max_height": null,
       "max_width": null,
       "min_height": null,
       "min_width": null,
       "object_fit": null,
       "object_position": null,
       "order": null,
       "overflow": null,
       "overflow_x": null,
       "overflow_y": null,
       "padding": null,
       "right": null,
       "top": null,
       "visibility": null,
       "width": null
      }
     },
     "54f806fe3351448a8a1f81c81653ffb4": {
      "model_module": "@jupyter-widgets/controls",
      "model_module_version": "1.5.0",
      "model_name": "HTMLModel",
      "state": {
       "_dom_classes": [],
       "_model_module": "@jupyter-widgets/controls",
       "_model_module_version": "1.5.0",
       "_model_name": "HTMLModel",
       "_view_count": null,
       "_view_module": "@jupyter-widgets/controls",
       "_view_module_version": "1.5.0",
       "_view_name": "HTMLView",
       "description": "",
       "description_tooltip": null,
       "layout": "IPY_MODEL_7aa1f506c3794b88b4fc56628103b78e",
       "placeholder": "​",
       "style": "IPY_MODEL_0a377a207e874d4aa1e9d1f4bf7e3221",
       "value": " 29961/? [03:34&lt;00:00, 139.76it/s]"
      }
     },
     "7aa1f506c3794b88b4fc56628103b78e": {
      "model_module": "@jupyter-widgets/base",
      "model_module_version": "1.2.0",
      "model_name": "LayoutModel",
      "state": {
       "_model_module": "@jupyter-widgets/base",
       "_model_module_version": "1.2.0",
       "_model_name": "LayoutModel",
       "_view_count": null,
       "_view_module": "@jupyter-widgets/base",
       "_view_module_version": "1.2.0",
       "_view_name": "LayoutView",
       "align_content": null,
       "align_items": null,
       "align_self": null,
       "border": null,
       "bottom": null,
       "display": null,
       "flex": null,
       "flex_flow": null,
       "grid_area": null,
       "grid_auto_columns": null,
       "grid_auto_flow": null,
       "grid_auto_rows": null,
       "grid_column": null,
       "grid_gap": null,
       "grid_row": null,
       "grid_template_areas": null,
       "grid_template_columns": null,
       "grid_template_rows": null,
       "height": null,
       "justify_content": null,
       "justify_items": null,
       "left": null,
       "margin": null,
       "max_height": null,
       "max_width": null,
       "min_height": null,
       "min_width": null,
       "object_fit": null,
       "object_position": null,
       "order": null,
       "overflow": null,
       "overflow_x": null,
       "overflow_y": null,
       "padding": null,
       "right": null,
       "top": null,
       "visibility": null,
       "width": null
      }
     },
     "b27674c04aef4cbbbbb581e883cbb3c3": {
      "model_module": "@jupyter-widgets/controls",
      "model_module_version": "1.5.0",
      "model_name": "FloatProgressModel",
      "state": {
       "_dom_classes": [],
       "_model_module": "@jupyter-widgets/controls",
       "_model_module_version": "1.5.0",
       "_model_name": "FloatProgressModel",
       "_view_count": null,
       "_view_module": "@jupyter-widgets/controls",
       "_view_module_version": "1.5.0",
       "_view_name": "ProgressView",
       "bar_style": "success",
       "description": "",
       "description_tooltip": null,
       "layout": "IPY_MODEL_54136badddc54f7391c5ed2cab4017c0",
       "max": 1.0,
       "min": 0.0,
       "orientation": "horizontal",
       "style": "IPY_MODEL_39586167a08d44ba80d854beb0c314f1",
       "value": 1.0
      }
     },
     "ecdb702f52414178b51c3ffa348a037d": {
      "model_module": "@jupyter-widgets/controls",
      "model_module_version": "1.5.0",
      "model_name": "HBoxModel",
      "state": {
       "_dom_classes": [],
       "_model_module": "@jupyter-widgets/controls",
       "_model_module_version": "1.5.0",
       "_model_name": "HBoxModel",
       "_view_count": null,
       "_view_module": "@jupyter-widgets/controls",
       "_view_module_version": "1.5.0",
       "_view_name": "HBoxView",
       "box_style": "",
       "children": [
        "IPY_MODEL_b27674c04aef4cbbbbb581e883cbb3c3",
        "IPY_MODEL_54f806fe3351448a8a1f81c81653ffb4"
       ],
       "layout": "IPY_MODEL_22ca05e28fd74f0c877020d5c0aa44c8"
      }
     }
    },
    "version_major": 2,
    "version_minor": 0
   }
  }
 },
 "nbformat": 4,
 "nbformat_minor": 4
}
