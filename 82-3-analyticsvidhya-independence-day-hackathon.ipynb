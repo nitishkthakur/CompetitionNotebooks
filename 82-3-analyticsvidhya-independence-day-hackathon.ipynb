{
 "cells": [
  {
   "cell_type": "code",
   "execution_count": 1,
   "metadata": {
    "_cell_guid": "b1076dfc-b9ad-4769-8c92-a6c4dae69d19",
    "_uuid": "8f2839f25d086af736a60e9eeb907d3b93b6e0e5",
    "execution": {
     "iopub.execute_input": "2020-08-20T10:45:04.508950Z",
     "iopub.status.busy": "2020-08-20T10:45:04.508223Z",
     "iopub.status.idle": "2020-08-20T10:45:13.187500Z",
     "shell.execute_reply": "2020-08-20T10:45:13.186788Z"
    },
    "papermill": {
     "duration": 8.697644,
     "end_time": "2020-08-20T10:45:13.187624",
     "exception": false,
     "start_time": "2020-08-20T10:45:04.489980",
     "status": "completed"
    },
    "tags": []
   },
   "outputs": [
    {
     "name": "stdout",
     "output_type": "stream",
     "text": [
      "/kaggle/input/janatahack-independence-day-2020-ml-hackathon/sample_submission_UVKGLZE.csv\n",
      "/kaggle/input/janatahack-independence-day-2020-ml-hackathon/train.csv\n",
      "/kaggle/input/janatahack-independence-day-2020-ml-hackathon/test.csv\n"
     ]
    }
   ],
   "source": [
    "# This Python 3 environment comes with many helpful analytics libraries installed\n",
    "# It is defined by the kaggle/python Docker image: https://github.com/kaggle/docker-python\n",
    "# For example, here's several helpful packages to load\n",
    "\n",
    "import numpy as np # linear algebra\n",
    "import pandas as pd # data processing, CSV file I/O (e.g. pd.read_csv)\n",
    "\n",
    "# Input data files are available in the read-only \"../input/\" directory\n",
    "# For example, running this (by clicking run or pressing Shift+Enter) will list all files under the input directory\n",
    "\n",
    "import os\n",
    "for dirname, _, filenames in os.walk('/kaggle/input'):\n",
    "    for filename in filenames:\n",
    "        print(os.path.join(dirname, filename))\n",
    "\n",
    "# You can write up to 5GB to the current directory (/kaggle/working/) that gets preserved as output when you create a version using \"Save & Run All\" \n",
    "# You can also write temporary files to /kaggle/temp/, but they won't be saved outside of the current session\n",
    "import pandas as pd\n",
    "import numpy as np\n",
    "import matplotlib.pyplot as plt\n",
    "import seaborn as sns\n",
    "import tensorflow as tf\n",
    "from sklearn import preprocessing, linear_model, ensemble, metrics, model_selection, svm, pipeline, naive_bayes\n",
    "from sklearn.feature_extraction.text import CountVectorizer, TfidfTransformer\n",
    "import nltk\n",
    "import spacy\n",
    "import textblob\n",
    "from nltk import word_tokenize          \n",
    "from nltk.stem import WordNetLemmatizer\n",
    "from sklearn.multioutput import MultiOutputClassifier"
   ]
  },
  {
   "cell_type": "code",
   "execution_count": 2,
   "metadata": {
    "_cell_guid": "79c7e3d0-c299-4dcb-8224-4455121ee9b0",
    "_uuid": "d629ff2d2480ee46fbb7e2d37f6b5fab8052498a",
    "execution": {
     "iopub.execute_input": "2020-08-20T10:45:13.216535Z",
     "iopub.status.busy": "2020-08-20T10:45:13.213744Z",
     "iopub.status.idle": "2020-08-20T10:45:13.637967Z",
     "shell.execute_reply": "2020-08-20T10:45:13.637302Z"
    },
    "papermill": {
     "duration": 0.440988,
     "end_time": "2020-08-20T10:45:13.638088",
     "exception": false,
     "start_time": "2020-08-20T10:45:13.197100",
     "status": "completed"
    },
    "tags": []
   },
   "outputs": [],
   "source": [
    "# Read Data\n",
    "train = pd.read_csv('/kaggle/input/janatahack-independence-day-2020-ml-hackathon/train.csv')\n",
    "test = pd.read_csv('/kaggle/input/janatahack-independence-day-2020-ml-hackathon/test.csv')\n"
   ]
  },
  {
   "cell_type": "code",
   "execution_count": 3,
   "metadata": {
    "execution": {
     "iopub.execute_input": "2020-08-20T10:45:13.675093Z",
     "iopub.status.busy": "2020-08-20T10:45:13.674344Z",
     "iopub.status.idle": "2020-08-20T10:45:13.684023Z",
     "shell.execute_reply": "2020-08-20T10:45:13.683476Z"
    },
    "papermill": {
     "duration": 0.037122,
     "end_time": "2020-08-20T10:45:13.684141",
     "exception": false,
     "start_time": "2020-08-20T10:45:13.647019",
     "status": "completed"
    },
    "tags": []
   },
   "outputs": [
    {
     "data": {
      "text/html": [
       "<div>\n",
       "<style scoped>\n",
       "    .dataframe tbody tr th:only-of-type {\n",
       "        vertical-align: middle;\n",
       "    }\n",
       "\n",
       "    .dataframe tbody tr th {\n",
       "        vertical-align: top;\n",
       "    }\n",
       "\n",
       "    .dataframe thead th {\n",
       "        text-align: right;\n",
       "    }\n",
       "</style>\n",
       "<table border=\"1\" class=\"dataframe\">\n",
       "  <thead>\n",
       "    <tr style=\"text-align: right;\">\n",
       "      <th></th>\n",
       "      <th>ID</th>\n",
       "      <th>TITLE</th>\n",
       "      <th>ABSTRACT</th>\n",
       "      <th>Computer Science</th>\n",
       "      <th>Physics</th>\n",
       "      <th>Mathematics</th>\n",
       "      <th>Statistics</th>\n",
       "      <th>Quantitative Biology</th>\n",
       "      <th>Quantitative Finance</th>\n",
       "    </tr>\n",
       "  </thead>\n",
       "  <tbody>\n",
       "    <tr>\n",
       "      <th>0</th>\n",
       "      <td>1</td>\n",
       "      <td>Reconstructing Subject-Specific Effect Maps</td>\n",
       "      <td>Predictive models allow subject-specific inf...</td>\n",
       "      <td>1</td>\n",
       "      <td>0</td>\n",
       "      <td>0</td>\n",
       "      <td>0</td>\n",
       "      <td>0</td>\n",
       "      <td>0</td>\n",
       "    </tr>\n",
       "    <tr>\n",
       "      <th>1</th>\n",
       "      <td>2</td>\n",
       "      <td>Rotation Invariance Neural Network</td>\n",
       "      <td>Rotation invariance and translation invarian...</td>\n",
       "      <td>1</td>\n",
       "      <td>0</td>\n",
       "      <td>0</td>\n",
       "      <td>0</td>\n",
       "      <td>0</td>\n",
       "      <td>0</td>\n",
       "    </tr>\n",
       "    <tr>\n",
       "      <th>2</th>\n",
       "      <td>3</td>\n",
       "      <td>Spherical polyharmonics and Poisson kernels fo...</td>\n",
       "      <td>We introduce and develop the notion of spher...</td>\n",
       "      <td>0</td>\n",
       "      <td>0</td>\n",
       "      <td>1</td>\n",
       "      <td>0</td>\n",
       "      <td>0</td>\n",
       "      <td>0</td>\n",
       "    </tr>\n",
       "    <tr>\n",
       "      <th>3</th>\n",
       "      <td>4</td>\n",
       "      <td>A finite element approximation for the stochas...</td>\n",
       "      <td>The stochastic Landau--Lifshitz--Gilbert (LL...</td>\n",
       "      <td>0</td>\n",
       "      <td>0</td>\n",
       "      <td>1</td>\n",
       "      <td>0</td>\n",
       "      <td>0</td>\n",
       "      <td>0</td>\n",
       "    </tr>\n",
       "    <tr>\n",
       "      <th>4</th>\n",
       "      <td>5</td>\n",
       "      <td>Comparative study of Discrete Wavelet Transfor...</td>\n",
       "      <td>Fourier-transform infra-red (FTIR) spectra o...</td>\n",
       "      <td>1</td>\n",
       "      <td>0</td>\n",
       "      <td>0</td>\n",
       "      <td>1</td>\n",
       "      <td>0</td>\n",
       "      <td>0</td>\n",
       "    </tr>\n",
       "  </tbody>\n",
       "</table>\n",
       "</div>"
      ],
      "text/plain": [
       "   ID                                              TITLE  \\\n",
       "0   1        Reconstructing Subject-Specific Effect Maps   \n",
       "1   2                 Rotation Invariance Neural Network   \n",
       "2   3  Spherical polyharmonics and Poisson kernels fo...   \n",
       "3   4  A finite element approximation for the stochas...   \n",
       "4   5  Comparative study of Discrete Wavelet Transfor...   \n",
       "\n",
       "                                            ABSTRACT  Computer Science  \\\n",
       "0    Predictive models allow subject-specific inf...                 1   \n",
       "1    Rotation invariance and translation invarian...                 1   \n",
       "2    We introduce and develop the notion of spher...                 0   \n",
       "3    The stochastic Landau--Lifshitz--Gilbert (LL...                 0   \n",
       "4    Fourier-transform infra-red (FTIR) spectra o...                 1   \n",
       "\n",
       "   Physics  Mathematics  Statistics  Quantitative Biology  \\\n",
       "0        0            0           0                     0   \n",
       "1        0            0           0                     0   \n",
       "2        0            1           0                     0   \n",
       "3        0            1           0                     0   \n",
       "4        0            0           1                     0   \n",
       "\n",
       "   Quantitative Finance  \n",
       "0                     0  \n",
       "1                     0  \n",
       "2                     0  \n",
       "3                     0  \n",
       "4                     0  "
      ]
     },
     "execution_count": 3,
     "metadata": {},
     "output_type": "execute_result"
    }
   ],
   "source": [
    "train.head()\n"
   ]
  },
  {
   "cell_type": "code",
   "execution_count": 4,
   "metadata": {
    "execution": {
     "iopub.execute_input": "2020-08-20T10:45:13.709499Z",
     "iopub.status.busy": "2020-08-20T10:45:13.708852Z",
     "iopub.status.idle": "2020-08-20T10:45:13.730566Z",
     "shell.execute_reply": "2020-08-20T10:45:13.730057Z"
    },
    "papermill": {
     "duration": 0.037286,
     "end_time": "2020-08-20T10:45:13.730711",
     "exception": false,
     "start_time": "2020-08-20T10:45:13.693425",
     "status": "completed"
    },
    "tags": []
   },
   "outputs": [],
   "source": [
    "train_id = train['ID']\n",
    "test_id = test['ID']\n",
    "\n",
    "# Create indices to split train and test on later\n",
    "train['train_ind'] = np.arange(train.shape[0])\n",
    "test['train_ind'] = np.arange(train.shape[0], train.shape[0]+test.shape[0])\n",
    "\n",
    "# Merge Train and Test - This approach only works for competitions - not for model deployment in real projects.\n",
    "data = pd.concat([train, test], axis = 0)"
   ]
  },
  {
   "cell_type": "code",
   "execution_count": 5,
   "metadata": {
    "execution": {
     "iopub.execute_input": "2020-08-20T10:45:13.760623Z",
     "iopub.status.busy": "2020-08-20T10:45:13.759631Z",
     "iopub.status.idle": "2020-08-20T10:45:13.762814Z",
     "shell.execute_reply": "2020-08-20T10:45:13.762295Z"
    },
    "papermill": {
     "duration": 0.02293,
     "end_time": "2020-08-20T10:45:13.762940",
     "exception": false,
     "start_time": "2020-08-20T10:45:13.740010",
     "status": "completed"
    },
    "tags": []
   },
   "outputs": [],
   "source": [
    "# Create class which performs Label Encoding - if required\n",
    "class categorical_encoder:\n",
    "    def __init__(self, columns, kind = 'label', fill = True):\n",
    "        self.kind = kind\n",
    "        self.columns = columns\n",
    "        self.fill = fill\n",
    "        \n",
    "    def fit(self, X):\n",
    "        self.dict = {}\n",
    "        self.fill_value = {}\n",
    "        \n",
    "        for col in self.columns:\n",
    "            label = preprocessing.LabelEncoder().fit(X[col])\n",
    "            self.dict[col] = label\n",
    "            \n",
    "            # To fill\n",
    "            if self.fill:\n",
    "                self.fill_value[col] = X[col].mode()[0]\n",
    "                X[col] = X[col].fillna(self.fill_value[col])\n",
    "                \n",
    "        print('Label Encoding Done for {} columns'.format(len(self.columns)))\n",
    "        return self\n",
    "    def transform(self, X):\n",
    "        for col in self.columns:\n",
    "            if self.fill:\n",
    "                X[col] = X[col].fillna(self.fill_value[col])\n",
    "                \n",
    "            X.loc[:, col] = self.dict[col].transform(X[col])\n",
    "        print('Transformation Done')\n",
    "        return X"
   ]
  },
  {
   "cell_type": "code",
   "execution_count": 6,
   "metadata": {
    "execution": {
     "iopub.execute_input": "2020-08-20T10:45:13.787704Z",
     "iopub.status.busy": "2020-08-20T10:45:13.787077Z",
     "iopub.status.idle": "2020-08-20T10:45:13.790560Z",
     "shell.execute_reply": "2020-08-20T10:45:13.789529Z"
    },
    "papermill": {
     "duration": 0.01839,
     "end_time": "2020-08-20T10:45:13.790734",
     "exception": false,
     "start_time": "2020-08-20T10:45:13.772344",
     "status": "completed"
    },
    "tags": []
   },
   "outputs": [],
   "source": [
    "# Create Lemmatizer - if required\n",
    "class LemmaTokenizer(object):\n",
    "    def __init__(self):\n",
    "        self.wnl = WordNetLemmatizer()\n",
    "    def __call__(self, articles):\n",
    "        return [self.wnl.lemmatize(t) for t in word_tokenize(articles)]\n"
   ]
  },
  {
   "cell_type": "code",
   "execution_count": 7,
   "metadata": {
    "execution": {
     "iopub.execute_input": "2020-08-20T10:45:13.823327Z",
     "iopub.status.busy": "2020-08-20T10:45:13.822698Z",
     "iopub.status.idle": "2020-08-20T10:45:13.825013Z",
     "shell.execute_reply": "2020-08-20T10:45:13.825479Z"
    },
    "papermill": {
     "duration": 0.023905,
     "end_time": "2020-08-20T10:45:13.825619",
     "exception": false,
     "start_time": "2020-08-20T10:45:13.801714",
     "status": "completed"
    },
    "tags": []
   },
   "outputs": [],
   "source": [
    "# Function to Create CountEncoded and tf-idf features\n",
    "def add_text_features(text_column_name, data_file, max_features = 2000, txn = 'tf-idf', min_df = 1, max_df = 1.0,\n",
    "                     ngram_range = (1, 1), lowercase = True, sparse = False, tokenizer = None):\n",
    "    if txn == 'count':\n",
    "        # Use Count Vectorizer\n",
    "        counts = CountVectorizer(max_features = max_features, min_df = min_df, \n",
    "        max_df = max_df, ngram_range = ngram_range, lowercase = lowercase, tokenizer=tokenizer).fit(data_file[text_column_name])\n",
    "    if txn == 'tf-idf':\n",
    "        counts = pipeline.make_pipeline(CountVectorizer(max_features = max_features, min_df = min_df, \n",
    "        max_df = max_df, ngram_range = ngram_range, lowercase = lowercase, tokenizer=tokenizer),\n",
    "                                        TfidfTransformer()).fit(data_file[text_column_name])\n",
    "    text_features = counts.transform(data_file[text_column_name])\n",
    "    \n",
    "    # Return for sparse output\n",
    "    if sparse: return text_features, None\n",
    "    \n",
    "    # Create Mapping\n",
    "    if txn == 'count':\n",
    "        mapping = {val: key for key, val in counts.vocabulary_.items()}\n",
    "    if txn == 'tf-idf':\n",
    "        mapping = {val: key for key, val in counts['countvectorizer'].vocabulary_.items()}\n",
    "    \n",
    "    # Create DataFrame\n",
    "    text_features_data = pd.DataFrame(text_features.toarray())\n",
    "    text_features_data = text_features_data.rename(mapping, axis = 1)\n",
    "    text_cols = text_features_data.columns.tolist()\n",
    "    \n",
    "    # Append to dataframe\n",
    "    data_copy = pd.concat([data_file.reset_index(drop = True), text_features_data.reset_index(drop = True)], axis = 1)\n",
    "    return data_copy, text_cols"
   ]
  },
  {
   "cell_type": "code",
   "execution_count": 8,
   "metadata": {
    "execution": {
     "iopub.execute_input": "2020-08-20T10:45:13.893744Z",
     "iopub.status.busy": "2020-08-20T10:45:13.865713Z",
     "iopub.status.idle": "2020-08-20T10:46:11.636639Z",
     "shell.execute_reply": "2020-08-20T10:46:11.636001Z"
    },
    "papermill": {
     "duration": 57.801589,
     "end_time": "2020-08-20T10:46:11.636848",
     "exception": false,
     "start_time": "2020-08-20T10:45:13.835259",
     "status": "completed"
    },
    "tags": []
   },
   "outputs": [],
   "source": [
    "data_copy, text_cols = add_text_features(text_column_name = 'ABSTRACT', \n",
    "                                     data_file = data, max_features = 150000, min_df = 5, max_df = .5,\n",
    "                                    ngram_range = (1, 3), lowercase = True, sparse = True)"
   ]
  },
  {
   "cell_type": "code",
   "execution_count": 9,
   "metadata": {
    "execution": {
     "iopub.execute_input": "2020-08-20T10:46:11.670261Z",
     "iopub.status.busy": "2020-08-20T10:46:11.669281Z",
     "iopub.status.idle": "2020-08-20T10:46:11.746266Z",
     "shell.execute_reply": "2020-08-20T10:46:11.745336Z"
    },
    "papermill": {
     "duration": 0.098751,
     "end_time": "2020-08-20T10:46:11.746473",
     "exception": false,
     "start_time": "2020-08-20T10:46:11.647722",
     "status": "completed"
    },
    "tags": []
   },
   "outputs": [],
   "source": [
    "# Split the data back to train and test\n",
    "X_train = data_copy[:train.shape[0], :]\n",
    "y_train = data[['Computer Science', 'Physics', 'Mathematics',\n",
    "       'Statistics', 'Quantitative Biology', 'Quantitative Finance']].iloc[:train.shape[0]]\n",
    "\n",
    "X_test = data_copy[train.shape[0]:, :]\n",
    "y_test = data[['Computer Science', 'Physics', 'Mathematics',\n",
    "       'Statistics', 'Quantitative Biology', 'Quantitative Finance']].iloc[train.shape[0]:]"
   ]
  },
  {
   "cell_type": "code",
   "execution_count": 10,
   "metadata": {
    "execution": {
     "iopub.execute_input": "2020-08-20T10:46:11.776029Z",
     "iopub.status.busy": "2020-08-20T10:46:11.775063Z",
     "iopub.status.idle": "2020-08-20T10:46:11.779603Z",
     "shell.execute_reply": "2020-08-20T10:46:11.778871Z"
    },
    "papermill": {
     "duration": 0.019223,
     "end_time": "2020-08-20T10:46:11.779796",
     "exception": false,
     "start_time": "2020-08-20T10:46:11.760573",
     "status": "completed"
    },
    "tags": []
   },
   "outputs": [
    {
     "data": {
      "text/plain": [
       "<20972x150000 sparse matrix of type '<class 'numpy.float64'>'\n",
       "\twith 3969627 stored elements in Compressed Sparse Row format>"
      ]
     },
     "execution_count": 10,
     "metadata": {},
     "output_type": "execute_result"
    }
   ],
   "source": [
    "X_train"
   ]
  },
  {
   "cell_type": "code",
   "execution_count": 11,
   "metadata": {
    "execution": {
     "iopub.execute_input": "2020-08-20T10:46:11.813070Z",
     "iopub.status.busy": "2020-08-20T10:46:11.812124Z",
     "iopub.status.idle": "2020-08-20T10:52:43.835912Z",
     "shell.execute_reply": "2020-08-20T10:52:43.835074Z"
    },
    "papermill": {
     "duration": 392.040281,
     "end_time": "2020-08-20T10:52:43.836100",
     "exception": false,
     "start_time": "2020-08-20T10:46:11.795819",
     "status": "completed"
    },
    "tags": []
   },
   "outputs": [],
   "source": [
    "# Train model - Logistic Regression is a good option for Text classification problems\n",
    "#model = linear_model.LogisticRegressionCV(penalty = 'l2', Cs = 10, max_iter = 5000).fit(X_train, y_train)\n",
    "#model = linear_model.RidgeClassifierCV().fit(X_train, y_train)\n",
    "from sklearn import naive_bayes\n",
    "\n",
    "#model = MultiOutputClassifier(estimator = naive_bayes.MultinomialNB(alpha=1.0, fit_prior=True, class_prior=None)).fit(X_train, y_train)\n",
    "model = MultiOutputClassifier(estimator = linear_model.LogisticRegressionCV(Cs = 10, cv = 5, n_jobs = -1, max_iter = 5000)).fit(X_train, y_train)"
   ]
  },
  {
   "cell_type": "code",
   "execution_count": 12,
   "metadata": {
    "execution": {
     "iopub.execute_input": "2020-08-20T10:52:43.871891Z",
     "iopub.status.busy": "2020-08-20T10:52:43.870962Z",
     "iopub.status.idle": "2020-08-20T10:52:43.873841Z",
     "shell.execute_reply": "2020-08-20T10:52:43.874395Z"
    },
    "papermill": {
     "duration": 0.024217,
     "end_time": "2020-08-20T10:52:43.874577",
     "exception": false,
     "start_time": "2020-08-20T10:52:43.850360",
     "status": "completed"
    },
    "tags": []
   },
   "outputs": [],
   "source": [
    "def get_preds_multioutput(predictions):\n",
    "    return np.array([[val[1] for val in inner] for inner in predictions]).T\n",
    "\n",
    "def convert_probs_to_labels(predictions, threshold = .5, labels = None):\n",
    "    final = []\n",
    "    for prediction in predictions:\n",
    "        temp = (prediction > threshold)*1\n",
    "        final.append(temp)\n",
    "        \n",
    "    return final\n",
    "\n",
    "def predict_1(predictions, threshold=.5):\n",
    "    preds = get_preds_multioutput(predictions)\n",
    "    preds = convert_probs_to_labels(preds, threshold = threshold, labels = None)\n",
    "    return np.array(preds)\n",
    "\n",
    "#predict_1(model.predict_proba(X_test))"
   ]
  },
  {
   "cell_type": "code",
   "execution_count": 13,
   "metadata": {
    "execution": {
     "iopub.execute_input": "2020-08-20T10:52:43.909965Z",
     "iopub.status.busy": "2020-08-20T10:52:43.909238Z",
     "iopub.status.idle": "2020-08-20T10:52:44.148037Z",
     "shell.execute_reply": "2020-08-20T10:52:44.147372Z"
    },
    "papermill": {
     "duration": 0.260229,
     "end_time": "2020-08-20T10:52:44.148176",
     "exception": false,
     "start_time": "2020-08-20T10:52:43.887947",
     "status": "completed"
    },
    "tags": []
   },
   "outputs": [],
   "source": [
    "sub = pd.DataFrame()\n",
    "sub['ID'] = test_id\n",
    "\n",
    "preds = predict_1(model.predict_proba(X_test))\n",
    "sub[['Computer Science', 'Physics', 'Mathematics',\n",
    "       'Statistics', 'Quantitative Biology', 'Quantitative Finance']] = model.predict(X_test).astype(int)\n",
    "sub.to_csv('sub.csv', index = None)"
   ]
  }
 ],
 "metadata": {
  "kernelspec": {
   "display_name": "Python 3",
   "language": "python",
   "name": "python3"
  },
  "language_info": {
   "codemirror_mode": {
    "name": "ipython",
    "version": 3
   },
   "file_extension": ".py",
   "mimetype": "text/x-python",
   "name": "python",
   "nbconvert_exporter": "python",
   "pygments_lexer": "ipython3",
   "version": "3.7.6"
  },
  "papermill": {
   "duration": 465.054913,
   "end_time": "2020-08-20T10:52:45.210328",
   "environment_variables": {},
   "exception": null,
   "input_path": "__notebook__.ipynb",
   "output_path": "__notebook__.ipynb",
   "parameters": {},
   "start_time": "2020-08-20T10:45:00.155415",
   "version": "2.1.0"
  }
 },
 "nbformat": 4,
 "nbformat_minor": 4
}
